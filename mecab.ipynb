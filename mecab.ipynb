{
 "cells": [
  {
   "cell_type": "code",
   "execution_count": 2,
   "metadata": {},
   "outputs": [
    {
     "name": "stdout",
     "output_type": "stream",
     "text": [
      "Collecting mecab-python3\n",
      "\u001b[?25l  Downloading https://files.pythonhosted.org/packages/dd/f3/6fe13dba17a7f81484b5e86e2db270617ad1cf8a7d2a9d1abf7fc5eea72b/mecab_python3-0.996.2-cp37-cp37m-manylinux1_x86_64.whl (15.9MB)\n",
      "\u001b[K     |████████████████████████████████| 15.9MB 2.6MB/s eta 0:00:01    |████▋                           | 2.3MB 2.9MB/s eta 0:00:05     |██████████▉                     | 5.4MB 2.9MB/s eta 0:00:04     |███████████████▍                | 7.6MB 4.8MB/s eta 0:00:02     |█████████████████▏              | 8.5MB 312kB/s eta 0:00:24     |███████████████████▎            | 9.6MB 312kB/s eta 0:00:21     |███████████████████▉            | 9.9MB 312kB/s eta 0:00:20     |█████████████████████           | 10.4MB 312kB/s eta 0:00:18     |██████████████████████▊         | 11.2MB 7.6MB/s eta 0:00:01     |████████████████████████▌       | 12.2MB 7.6MB/s eta 0:00:01     |█████████████████████████       | 12.4MB 7.6MB/s eta 0:00:01     |████████████████████████████▌   | 14.1MB 7.6MB/s eta 0:00:01\n",
      "\u001b[?25hInstalling collected packages: mecab-python3\n",
      "Successfully installed mecab-python3-0.996.2\n"
     ]
    }
   ],
   "source": [
    "!pip install mecab-python3"
   ]
  },
  {
   "cell_type": "code",
   "execution_count": 4,
   "metadata": {
    "tags": []
   },
   "outputs": [
    {
     "output_type": "stream",
     "name": "stdout",
     "text": "誰\t名詞,代名詞,一般,*,*,*,誰,ダレ,ダレ\nで\t助詞,格助詞,一般,*,*,*,で,デ,デ\nも\t助詞,係助詞,*,*,*,*,も,モ,モ\n分かる\t動詞,自立,*,*,五段・ラ行,基本形,分かる,ワカル,ワカル\nmecab\t名詞,一般,*,*,*,*,*\nの\t助詞,連体化,*,*,*,*,の,ノ,ノ\n使い方\t名詞,一般,*,*,*,*,使い方,ツカイカタ,ツカイカタ\nEOS\n\n"
    }
   ],
   "source": [
    "import MeCab\n",
    "n = MeCab.Tagger()\n",
    "print( n.parse(\"誰でも分かるmecabの使い方\") )"
   ]
  },
  {
   "cell_type": "code",
   "execution_count": null,
   "metadata": {},
   "outputs": [],
   "source": []
  }
 ],
 "metadata": {
  "kernelspec": {
   "display_name": "Python 3",
   "language": "python",
   "name": "python3"
  },
  "language_info": {
   "codemirror_mode": {
    "name": "ipython",
    "version": 3
   },
   "file_extension": ".py",
   "mimetype": "text/x-python",
   "name": "python",
   "nbconvert_exporter": "python",
   "pygments_lexer": "ipython3",
   "version": "3.6.5"
  }
 },
 "nbformat": 4,
 "nbformat_minor": 4
}